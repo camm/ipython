{
 "metadata": {
  "name": "",
  "signature": "sha256:61c0fbfd656da0101a745e69b0bd7a5f1e2631a7f05f20bfd277773d1996e736"
 },
 "nbformat": 3,
 "nbformat_minor": 0,
 "worksheets": [
  {
   "cells": [
    {
     "cell_type": "markdown",
     "metadata": {},
     "source": [
      "<h1>DSFinterp1DFit tutorial<h1>\n",
      "    <h2>Fitting of Methyl dihedral barriers of Octamethyl Silsesqiuoxane</h2>\n",
      "<a id='Table of Contents'></a><h3>Table of Contents</h3>\n",
      "<a href='#Syntax'>HTML and MARKDOWN SYNTAX EXAMPLES -- </a></br>\n",
      "<a href='#Goal'>Goal -- </a></br>\n",
      "<a href='#h0.0'>Import statements -- </a></br>\n",
      "<a href='#h0.1'>Working directory -- </a></br>\n",
      "<a href='#h0.2'>Load experimental resolution -- </a></br>\n",
      "<a href='#h1.0'>Load experimental scattering law -- </a></br>\n",
      "<a href='#h2.0'>Load simulated spectra -- </a></br>\n",
      "<a href='#h3.0'>Fast Fourier transform the simulated intermediate scattering law -- </a></br>\n",
      "<a href='#h4.0'>Make a plot of goodness of fit versus dihedral barrier -- </a></br>\n",
      "<a href='#h5.0'>Define the fitting function that will compare the simulated and experimental scattering laws -- </a></br>\n",
      "<a href='#h6.0'>Run the fitting procedure -- </a></br>\n",
      "    \n",
      "<a href='#'>TitleHere -- </a></br>"
     ]
    },
    {
     "cell_type": "markdown",
     "metadata": {},
     "source": [
      "(<a href='#Table of Contents'>Top</a>)<a id='Syntax'></a><h3>Syntax Examples</h3>\n",
      "local link: [link](files/link)</br>\n",
      "remote link: <a href=\"http://ambermd.org/\">http://ambermd.org</a>\n",
      "<font face=\"courier new\"> font face=\"courier new\" </font><br/>\n",
      "$$S_{model}(Q,E)=A(Q)\\cdot S_{elastic}(E) + B(Q)\\cdot S_{simulation}(Q,E)\\otimes S_{elastic}(E) + C(Q)+D(Q)\\cdot E$$\n",
      "<pre> Quoted text </pre>\n",
      "<center><table><tr>\n",
      "<td><a href=\"files/image.png\"><img src=\"files/image.png\" width=\"300\" height=\"250\" alt=\"image here\"></a> <br/>\n",
      "    <i>image caption</i></td>\n",
      "<td>some text</td>\n",
      "</tr></table></center>"
     ]
    },
    {
     "cell_type": "markdown",
     "metadata": {},
     "source": [
      "(<a href='#Table of Contents'>Top</a>)<a id='Goal'></a><h3>Goal</h3>\n",
      "To show the dynamical transition when the solvent is fundamentally different than water. The solvent is toluene and the solute is polyStyrene<br/>\n",
      "Toluene has a Tg~150K, while pStyrene has a Tg~370K (in the melt, for extremely long chains)<br/>\n",
      "How does the dynamical transition temperature Td changes with solvation level?"
     ]
    },
    {
     "cell_type": "markdown",
     "metadata": {},
     "source": [
      "(<a href='#Table of Contents'>Top</a>)<a id='h0.0'></a><h3>Import statements</h3>\n",
      "We need to add the path to the Mantid python API, and import the Mantid algorithms  we will be using"
     ]
    },
    {
     "cell_type": "code",
     "collapsed": false,
     "input": [
      "import sys\n",
      "sys.path.append('/path/file/to/mantid/python/API') # /opt/Mantid/bin in linux systems\n",
      "from mantid.simpleapi import LoadNexus, LoadSassena, Transpose, Rebin, Scale, SassenaFFT, ConvolveWorkspaces, Fit, mtd, DSFinterp"
     ],
     "language": "python",
     "metadata": {},
     "outputs": []
    },
    {
     "cell_type": "markdown",
     "metadata": {},
     "source": [
      "(<a href='#Table of Contents'>Top</a>)<a id='h0.1'></a><h3>Working directory</h3>\n",
      "Define the working directory. All files should be placed here"
     ]
    },
    {
     "cell_type": "code",
     "collapsed": false,
     "input": [
      "rootd='.'"
     ],
     "language": "python",
     "metadata": {},
     "outputs": []
    },
    {
     "cell_type": "markdown",
     "metadata": {},
     "source": [
      "(<a href='#Table of Contents'>Top</a>)<a id='h0.2'></a><h3>Load experimental resolution</h3>\n",
      "Input the resolution file, the elastic line.\n",
      "<center><a href=\"files/elastic.png\"><img src=\"files/elastic.png\" width=\"300\" height=\"250\" alt=\"image here\"></a></center>"
     ]
    },
    {
     "cell_type": "code",
     "collapsed": false,
     "input": [
      "LoadNexus(Filename='{0}/elastic.nxs'.format(rootd), OutputWorkspace='elastic')"
     ],
     "language": "python",
     "metadata": {},
     "outputs": []
    },
    {
     "cell_type": "markdown",
     "metadata": {},
     "source": [
      "(<a href='#Table of Contents'>Top</a>)<a id='h1.0'></a><h3>Load experimental scattering law</h3>\n",
      "Load the experimental quasi-elastic spectra S(Q,E) at T=200K. It contains 9 spectra, each at different Q's (0.3, 0.5, 0.7,..,1.9), and is defined in the energy domain [-0.15, 0.15]meV\n",
      "\n",
      "<center><a href=\"files/expdata.png\"><img src=\"files/expdata.png\" width=\"700\" height=\"500\" alt=\"expdata.png\"></a></center>"
     ]
    },
    {
     "cell_type": "code",
     "collapsed": false,
     "input": [
      " LoadNexus(Filename='{0}/exp200K.nxs'.format(rootd), OutputWorkspace='exp200K')"
     ],
     "language": "python",
     "metadata": {},
     "outputs": []
    },
    {
     "cell_type": "markdown",
     "metadata": {},
     "source": [
      "(<a href='#Table of Contents'>Top</a>)<a id='h2.0'></a><h3>Load simulated spectra</h3>\n",
      "We have 14 spectra at different values of the dihedral barrier K from 0.02 to 0.15"
     ]
    },
    {
     "cell_type": "code",
     "collapsed": false,
     "input": [
      "parametervalues='0.02 0.03 0.04 0.05 0.06 0.07 0.08 0.09 0.10 0.11 0.12 0.13 0.14 0.15'\n",
      "for K in parametervalues.split():\n",
      "    # Load spectra into Mantid workspace. Each file contains the intermediate structure factor I(Q,t) spectra for\n",
      "    # 9 different values of Q (0.3, 0.5, 0.7,..,1.9). The names of the resulting workspaces are incSM0.03, .., incSM0.15\n",
      "    LoadSassena(Filename='{0}/K{1}/T_200/fqt_inc_run1_rms2first.h5'.format(rootd,K), TimeUnit=1.0, OutputWorkspace='incSMK{0}'.format(K))"
     ],
     "language": "python",
     "metadata": {},
     "outputs": []
    },
    {
     "cell_type": "markdown",
     "metadata": {},
     "source": [
      "<center><table><tr>\n",
      "<td><a href=\"files/iqt_K0.06_Q1.9_linearscale.png\"><img src=\"files/iqt_K0.06_Q1.9_linearscale.png\" width=\"300\" height=\"250\" alt=\"iqt_K0.06_Q1.9_linearscale.png\"></a> <br/>\n",
      "    <i>I(Q=1.9, E, K=0.06), Linear Scale</i></td>\n",
      "<td><a href=\"files/iqt_K0.06_Q1.9.png\"><img src=\"files/iqt_K0.06_Q1.9.png\" width=\"300\" height=\"250\" alt=\"iqt_K0.06_Q1.9.png\"></a> <br/>\n",
      "    <i>I(Q=1.9, E, K=0.06), Log-Log Scale</i></td>\n",
      "</tr></table></center>"
     ]
    },
    {
     "cell_type": "markdown",
     "metadata": {},
     "source": [
      " What happens if one of the I(Q,t) files contains a different number of Q values? In the following special case, K=0.11, the I(Q,t) file contains spectra for values of Q (0.02, 0.03, 0.04, 0.05,...,2.0). Thus, we have to rebin the spectra in the Q-coordinate."
     ]
    },
    {
     "cell_type": "code",
     "collapsed": false,
     "input": [
      "Transpose(InputWorkspace='incSMK0.11_fqt.Re', OutputWorkspace='incSMK0.11_fqt.Re')   # from I(Q,t) to I(t,Q)\n",
      "Rebin(InputWorkspace='incSMK0.11_fqt.Re', Params=[0.2,0.2,2.0], OutputWorkspace='incSMK0.11_fqt.Re') # Rebin in Q to (0.3, 0.5,..,1.9)\n",
      "Transpose(InputWorkspace='incSMK0.11_fqt.Re', OutputWorkspace='incSMK0.11_fqt.Re')   # from I(t,Q) back to I(Q,t)"
     ],
     "language": "python",
     "metadata": {},
     "outputs": []
    },
    {
     "cell_type": "markdown",
     "metadata": {},
     "source": [
      "After rebin, the intensities I(Q,t=0) in the resulting spectra are different than for spectra at other K values. We rescale the intensities to match       "
     ]
    },
    {
     "cell_type": "code",
     "collapsed": false,
     "input": [
      "Scale(InputWorkspace='incSMK0.11_fqt.Re', factor=0.5, Operation='Multiply', OutputWorkspace='incSMK0.11_fqt.Re')"
     ],
     "language": "python",
     "metadata": {},
     "outputs": []
    },
    {
     "cell_type": "markdown",
     "metadata": {},
     "source": [
      "(<a href='#Table of Contents'>Top</a>)<a id='h3.0'></a><h3>Fast Fourier transform the simulated intermediate scattering law</h3>\n",
      "Fourier transform I(Q,t) to S(Q,E). Resulting workspaces are incSMK0.03_sqw .., incSMK0.15_sqw"
     ]
    },
    {
     "cell_type": "code",
     "collapsed": false,
     "input": [
      "SassenaFFT(InputWorkspace='incSMK{0}'.format(K), FFTonlyRealpart=1, DetailedBalance=1, Temp=200)"
     ],
     "language": "python",
     "metadata": {},
     "outputs": []
    },
    {
     "cell_type": "markdown",
     "metadata": {},
     "source": [
      "Rebin S(Q,E) in E to the region [-0.2, 0.2] meV, of the same order as the experimental [-0.15, 0.15] but a bit broader   "
     ]
    },
    {
     "cell_type": "code",
     "collapsed": false,
     "input": [
      "Rebin(InputWorkspace='incSMK{0}_sqw'.format(K), Params=[-0.2,0.0004,0.2], OutputWorkspace='incSMK{0}_sqw'.format(K))"
     ],
     "language": "python",
     "metadata": {},
     "outputs": []
    },
    {
     "cell_type": "markdown",
     "metadata": {},
     "source": [
      "Important remark: the system simulated in one POSS molecule. thus, our simulated system does not take into account the broadening\n",
      "due to motions of the molecule center of mass that take place in the crystalline phase. As a result, the elastic line in the simulation\n",
      "is over-represented.\n",
      "\n",
      "To correct this shortcoming in the simulations we will remove the simulated elastic line from the simulated S(Q,E)\n",
      "and later include a term represented the elastic line in the fitting model.\n",
      "\n",
      "S(Q,E) for for a fixed Q (see 'SQE' below) is a list of 1000 intensity values (one intensity per energy value. The elastic line is in the middle of this list, at indexes 499 and 500. We remove these intensities just by setting these values to the adjacent ones, which are quasi-elastic in nature.\n"
     ]
    },
    {
     "cell_type": "code",
     "collapsed": false,
     "input": [
      "ws=mtd['incSMK{0}_sqw'.format(K)] # simulated S(Q,E)\n",
      "# Remove the elastic line for the spectra at each Q.\n",
      "for iQ in range(9):\n",
      "    Q=0.03+0.02*iQ # not neccessary but just to remind the Q-value\n",
      "    SQE=ws.dataY(ih)\n",
      "    SQE[499]=SQE[498]  \n",
      "    SQE[500]=SQE[501]"
     ],
     "language": "python",
     "metadata": {},
     "outputs": []
    },
    {
     "cell_type": "markdown",
     "metadata": {},
     "source": [
      "<center><table><tr>\n",
      "<td><a href=\"files/incSMK0.06_sqw.png\"><img src=\"files/incSMK0.06_sqw.png\" width=\"400\" height=\"350\" alt=\"incSMK0.06_sqw.png\"></a> <br/>\n",
      "    <i> S(Q=1.9, E, K=0.06) before removal of elastic line.<br/> Notice the Log scale on the Y-axis.</i></td>\n",
      "<td><a href=\"files/incSMK0.06_sqw_elasticLineRemoved.png\"><img src=\"files/incSMK0.06_sqw_elasticLineRemoved.png\" width=\"400\" height=\"350\" alt=\"incSMK0.06_sqw_elasticLineRemoved.png\"></a> <br/>\n",
      "    <i>S(Q=1.9, E, K=0.06) after removal of elastic line</i></td>\n",
      "</tr></table></center>"
     ]
    },
    {
     "cell_type": "code",
     "collapsed": false,
     "input": [],
     "language": "python",
     "metadata": {},
     "outputs": []
    }
   ],
   "metadata": {}
  }
 ]
}